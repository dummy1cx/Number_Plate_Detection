{
 "cells": [
  {
   "cell_type": "markdown",
   "metadata": {},
   "source": [
    "\n",
    "Checking for data splitting before model training"
   ]
  },
  {
   "cell_type": "code",
   "execution_count": null,
   "metadata": {},
   "outputs": [
    {
     "name": "stdout",
     "output_type": "stream",
     "text": [
      "📁 Train images: 345\n",
      "📁 Val images: 44\n",
      "📁 Test images: 44\n"
     ]
    }
   ],
   "source": [
    "import os\n",
    "\n",
    "base_dir = \"/Users/abhishekdas/Documents/INM_705_Practice/Datasets/images\"\n",
    "\n",
    "for split in [\"train\", \"val\", \"test\"]:\n",
    "    folder = os.path.join(base_dir, split)\n",
    "    count = len([f for f in os.listdir(folder) if f.endswith(('.jpg', '.png', '.jpeg'))])\n",
    "    print(f\"{split.capitalize()} images: {count}\")\n"
   ]
  },
  {
   "cell_type": "code",
   "execution_count": null,
   "metadata": {},
   "outputs": [
    {
     "name": "stdout",
     "output_type": "stream",
     "text": [
      "📝 Train labels: 345\n",
      "📝 Val labels: 44\n",
      "📝 Test labels: 44\n"
     ]
    }
   ],
   "source": [
    "label_base = \"/Users/abhishekdas/Documents/INM_705_Practice/Datasets/labels\"\n",
    "\n",
    "for split in [\"train\", \"val\", \"test\"]:\n",
    "    folder = os.path.join(label_base, split)\n",
    "    count = len([f for f in os.listdir(folder) if f.endswith('.txt')])\n",
    "    print(f\"{split.capitalize()} labels: {count}\")\n"
   ]
  },
  {
   "cell_type": "code",
   "execution_count": null,
   "metadata": {},
   "outputs": [],
   "source": []
  }
 ],
 "metadata": {
  "kernelspec": {
   "display_name": "base",
   "language": "python",
   "name": "python3"
  },
  "language_info": {
   "codemirror_mode": {
    "name": "ipython",
    "version": 3
   },
   "file_extension": ".py",
   "mimetype": "text/x-python",
   "name": "python",
   "nbconvert_exporter": "python",
   "pygments_lexer": "ipython3",
   "version": "3.12.4"
  }
 },
 "nbformat": 4,
 "nbformat_minor": 2
}
